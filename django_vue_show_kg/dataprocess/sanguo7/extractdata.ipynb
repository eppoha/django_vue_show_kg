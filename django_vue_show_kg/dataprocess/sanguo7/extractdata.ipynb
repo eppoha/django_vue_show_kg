{
 "cells": [
  {
   "cell_type": "code",
   "execution_count": 1,
   "metadata": {},
   "outputs": [],
   "source": [
    "import pandas as pd"
   ]
  },
  {
   "cell_type": "code",
   "execution_count": 2,
   "metadata": {},
   "outputs": [
    {
     "name": "stdout",
     "output_type": "stream",
     "text": [
      "detail:\n",
      " <class 'pandas.core.frame.DataFrame'>\n"
     ]
    }
   ],
   "source": [
    "total = pd.read_excel(\n",
    "    io='./武将资料.xlsx',  # 文件的路径 + 名称\n",
    "    sheet_name=0,  # 表示读取第0个sheet，默认为0\n",
    "    header=0,  # 以第0行作为列索引 可以参考csv\n",
    "    # names=[....],  # 给数据起新的列索引 可以参考csv\n",
    "    # index_col=[...],  # 以指定的列作为行索引 可以参考csv\n",
    "    # …………\n",
    "    # 其他参数 可以参考csv理解！\n",
    ")\n",
    "print('detail:\\n', type(total))\t#  <class 'pandas.core.frame.DataFrame'>"
   ]
  },
  {
   "cell_type": "code",
   "execution_count": 3,
   "metadata": {},
   "outputs": [
    {
     "name": "stdout",
     "output_type": "stream",
     "text": [
      "编号\n",
      "姓名\n",
      "武力\n",
      "智力\n",
      "特性1\n",
      "特性2\n",
      "特性3\n",
      "必杀技\n",
      "义理\n",
      "相性\n",
      "种族\n",
      "性别\n",
      "头像\n",
      "造型\n"
     ]
    }
   ],
   "source": [
    "headlist = []\n",
    "for i in total:\n",
    "    headlist.append(str(i))\n",
    "    print(i)"
   ]
  },
  {
   "cell_type": "code",
   "execution_count": null,
   "metadata": {},
   "outputs": [],
   "source": [
    "headlist"
   ]
  },
  {
   "cell_type": "code",
   "execution_count": null,
   "metadata": {},
   "outputs": [],
   "source": [
    "for index, row in total.iterrows():\n",
    "    for i in row:\n",
    "        print(i)"
   ]
  },
  {
   "cell_type": "code",
   "execution_count": 4,
   "metadata": {},
   "outputs": [],
   "source": [
    "\n",
    "data_dict = {}\n",
    "# 遍历每一行数据\n",
    "for index, row in total.iterrows():\n",
    "    # print(\"类型：\",type(row))\n",
    "    # print(row)\n",
    "    data_dict[row['姓名']] = row\n",
    "    # for i in row.items():\n",
    "    #     print(i)\n",
    "    #     # tmp = {}"
   ]
  },
  {
   "cell_type": "code",
   "execution_count": null,
   "metadata": {},
   "outputs": [],
   "source": [
    "for i in data_dict.items():\n",
    "    print(i)"
   ]
  },
  {
   "cell_type": "code",
   "execution_count": null,
   "metadata": {},
   "outputs": [],
   "source": [
    "import sqlite3"
   ]
  },
  {
   "cell_type": "code",
   "execution_count": null,
   "metadata": {},
   "outputs": [],
   "source": [
    "# 连接到SQLite数据库\n",
    "# 数据库文件是test.db，如果文件不存在，会自动在当前目录创建:\n",
    "conn = sqlite3.connect('C:\\Users\\Administrator\\Desktop\\git\\django_vue_show_kg\\django_vue_show_kg\\db.sqlite3')\n",
    " \n",
    "# 创建一个Cursor:\n",
    "cursor = conn.cursor()\n",
    " \n",
    "# 创建表\n",
    "cursor.execute('''CREATE TABLE IF NOT EXISTS stocks\n",
    "               (date text, trans text, symbol text, qty real, price real)''')\n",
    " \n",
    "# 插入数据\n",
    "cursor.execute(\"INSERT INTO stocks VALUES ('2020-01-05', 'BUY', 'RHAT', 100, 35.14)\")\n",
    " \n",
    "# 提交事务:\n",
    "conn.commit()\n",
    " \n",
    "# 关闭Cursor:\n",
    "cursor.close()\n",
    " \n",
    "# 关闭Connection:\n",
    "conn.close()"
   ]
  },
  {
   "cell_type": "code",
   "execution_count": 3,
   "metadata": {},
   "outputs": [
    {
     "data": {
      "text/plain": [
       "\"b'name=%E5%BC%A0%E8%BE%BD'\""
      ]
     },
     "execution_count": 3,
     "metadata": {},
     "output_type": "execute_result"
    }
   ],
   "source": [
    "a = b'name=%E5%BC%A0%E8%BE%BD'\n",
    "b = str(a)\n",
    "# a[1:]\n",
    "b"
   ]
  },
  {
   "cell_type": "code",
   "execution_count": 5,
   "metadata": {},
   "outputs": [
    {
     "name": "stdout",
     "output_type": "stream",
     "text": [
      "b'name=张辽'\n"
     ]
    }
   ],
   "source": [
    "from urllib.parse import unquote\n",
    "print(unquote(\"b'name=%E5%BC%A0%E8%BE%BD'\"))"
   ]
  },
  {
   "cell_type": "code",
   "execution_count": 1,
   "metadata": {},
   "outputs": [],
   "source": [
    "import os\n",
    " \n",
    "def read_files_in_folder(folder_path):\n",
    "    file_list = []\n",
    " \n",
    "    for file_name in os.listdir(folder_path):\n",
    "        file_path = os.path.join(folder_path, file_name)\n",
    "        if os.path.isfile(file_path):\n",
    "            file_list.append(file_path)\n",
    " \n",
    "    return file_list"
   ]
  },
  {
   "cell_type": "code",
   "execution_count": null,
   "metadata": {},
   "outputs": [],
   "source": [
    "pathls = read_files_in_folder(r'C:\\Users\\Administrator\\Desktop\\git\\sanguo\\dataprocess\\peopleresource')\n",
    "pathls"
   ]
  },
  {
   "cell_type": "code",
   "execution_count": 1,
   "metadata": {},
   "outputs": [],
   "source": [
    "import sqlite3\n",
    "# 连接到SQLite数据库（如果不存在则在当前目录创建）\n",
    "conn = sqlite3.connect(r'C:\\Users\\Administrator\\Desktop\\git\\sanguo\\db.sqlite3')\n",
    "cursor = conn.cursor()\n"
   ]
  },
  {
   "cell_type": "code",
   "execution_count": 4,
   "metadata": {},
   "outputs": [
    {
     "name": "stdout",
     "output_type": "stream",
     "text": [
      "新字段已成功添加。\n"
     ]
    }
   ],
   "source": [
    " \n",
    "# 创建用户表\n",
    "# cursor.execute('''\n",
    "# CREATE TABLE IF NOT EXISTS sanguo (\n",
    "#     id INTEGER PRIMARY KEY,\n",
    "#     username TEXT NOT NULL,\n",
    "#     password TEXT NOT NULL,\n",
    "#     email TEXT\n",
    "# )\n",
    "# ''')\n",
    " # 提交事务\n",
    "\n",
    "# 添加新字段：年龄\n",
    "# 假设我们要从表'users'中删除字段'age'\n",
    "table_name = 'sanguo'\n",
    "# 添加一个新的列到已存在的表\n",
    "try:\n",
    "    cursor.execute(\"\"\"ALTER TABLE sanguo ADD COLUMN text_all TEXT\"\"\")\n",
    "    conn.commit()\n",
    "    print(\"新字段已成功添加。\")\n",
    "except sqlite3.Error as e:\n",
    "    print(f\"Error: {e.args[0]}\")\n",
    "    conn.rollback()\n"
   ]
  },
  {
   "cell_type": "code",
   "execution_count": null,
   "metadata": {},
   "outputs": [],
   "source": []
  },
  {
   "cell_type": "code",
   "execution_count": null,
   "metadata": {},
   "outputs": [],
   "source": [
    " \n",
    "# 关闭连接\n",
    "conn.close()"
   ]
  },
  {
   "cell_type": "code",
   "execution_count": 10,
   "metadata": {},
   "outputs": [],
   "source": [
    "people_info = {}\n",
    "for i in range(0,5):\n",
    "    \n",
    "# for i in range(len(pathls)):\n",
    "# for path in pathls:\n",
    "    path = pathls[i]\n",
    "    \n",
    "    file = open(path, 'r+', encoding='utf-8')\n",
    "    text = file.read()\n",
    "    file.close()\n",
    "    desc, text_all = text.split('\\n\\n')\n",
    "    name = path.replace(r\"C:\\Users\\Administrator\\Desktop\\git\\sanguo\\dataprocess\\peopleresource\", '').split('.')[0].replace('\\\\', '')\n",
    "    # people_info['name'] = name\n",
    "    people_info[name] = {}\n",
    "    people_info[name]['desc'] = desc\n",
    "    people_info[name]['text_all'] = text_all\n"
   ]
  },
  {
   "cell_type": "code",
   "execution_count": 6,
   "metadata": {},
   "outputs": [
    {
     "ename": "NameError",
     "evalue": "name 'people_info' is not defined",
     "output_type": "error",
     "traceback": [
      "\u001b[1;31m---------------------------------------------------------------------------\u001b[0m",
      "\u001b[1;31mNameError\u001b[0m                                 Traceback (most recent call last)",
      "\u001b[1;32m~\\AppData\\Local\\Temp\\ipykernel_25844\\698258490.py\u001b[0m in \u001b[0;36m<module>\u001b[1;34m\u001b[0m\n\u001b[1;32m----> 1\u001b[1;33m \u001b[1;32mfor\u001b[0m \u001b[0mkey\u001b[0m\u001b[1;33m,\u001b[0m \u001b[0mv\u001b[0m \u001b[1;32min\u001b[0m \u001b[0mpeople_info\u001b[0m\u001b[1;33m.\u001b[0m\u001b[0mitems\u001b[0m\u001b[1;33m(\u001b[0m\u001b[1;33m)\u001b[0m\u001b[1;33m:\u001b[0m\u001b[1;33m\u001b[0m\u001b[1;33m\u001b[0m\u001b[0m\n\u001b[0m\u001b[0;32m      2\u001b[0m     \u001b[0mprint\u001b[0m\u001b[1;33m(\u001b[0m\u001b[0mkey\u001b[0m\u001b[1;33m,\u001b[0m \u001b[0mv\u001b[0m\u001b[1;33m)\u001b[0m\u001b[1;33m\u001b[0m\u001b[1;33m\u001b[0m\u001b[0m\n",
      "\u001b[1;31mNameError\u001b[0m: name 'people_info' is not defined"
     ]
    }
   ],
   "source": [
    "for key, v in people_info.items():\n",
    "    print(key, v)"
   ]
  },
  {
   "cell_type": "markdown",
   "metadata": {},
   "source": [
    "dict = {\"name\":\"丁仪\"}\n",
    "dict = {\"name\":\"丁原\"}"
   ]
  },
  {
   "cell_type": "markdown",
   "metadata": {},
   "source": [
    "dict = {\"丁仪\":\n",
    "            {\"desc\":\"\", \"text_all\":\"\"},\n",
    "        {\"丁原\":\n",
    "            {\"desc\":\"\", \"text_all\":\"\"},\n",
    "        }\n",
    "    }"
   ]
  },
  {
   "cell_type": "code",
   "execution_count": null,
   "metadata": {},
   "outputs": [],
   "source": [
    "\n",
    "# 插入数据\n",
    "cursor.execute('''\n",
    "INSERT INTO sanguo (desc, text_all)\n",
    "VALUES (?, ?)\n",
    "''', (desc, text_all))\n",
    " \n",
    "# 提交事务\n",
    "conn.commit()\n",
    " \n",
    "# 关闭连接\n",
    "cursor.close()\n",
    "conn.close()"
   ]
  }
 ],
 "metadata": {
  "kernelspec": {
   "display_name": "Python 3",
   "language": "python",
   "name": "python3"
  },
  "language_info": {
   "codemirror_mode": {
    "name": "ipython",
    "version": 3
   },
   "file_extension": ".py",
   "mimetype": "text/x-python",
   "name": "python",
   "nbconvert_exporter": "python",
   "pygments_lexer": "ipython3",
   "version": "3.7.10"
  }
 },
 "nbformat": 4,
 "nbformat_minor": 2
}
